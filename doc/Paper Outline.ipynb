{
 "cells": [
  {
   "cell_type": "markdown",
   "metadata": {
    "collapsed": false
   },
   "source": [
    "## Paper Outline\n",
    "Title: An introduction to the McEliece cryptosystem.  \n",
    "\n",
    "\n",
    "### Introduction\n",
    "##### Why are post quantum algorithms important?\n",
    "##### An example: McEliece algorithm\n",
    "\n",
    "### McEliece\n",
    "##### How does it work?\n",
    "##### Properties\n",
    "Notice the difficulty of solving the McEliece matrix is tied directly with linear code we're using.\n",
    "\n",
    "\n",
    "### Goppa\n",
    "##### Goppa codes\n",
    "##### Size of Goppa code\n",
    "\n",
    "### Coding\n",
    "##### Implementation\n",
    "##### Experimental data\n",
    "\n",
    "#### Comparisons against RSA"
   ]
  },
  {
   "cell_type": "code",
   "execution_count": null,
   "metadata": {
    "collapsed": true
   },
   "outputs": [],
   "source": []
  }
 ],
 "metadata": {
  "kernelspec": {
   "display_name": "Python 3",
   "language": "python",
   "name": "python3"
  },
  "language_info": {
   "codemirror_mode": {
    "name": "ipython",
    "version": 3
   },
   "file_extension": ".py",
   "mimetype": "text/x-python",
   "name": "python",
   "nbconvert_exporter": "python",
   "pygments_lexer": "ipython3",
   "version": "3.5.2"
  }
 },
 "nbformat": 4,
 "nbformat_minor": 2
}
